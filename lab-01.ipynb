{
 "cells": [
  {
   "cell_type": "markdown",
   "metadata": {
    "collapsed": false
   },
   "source": [
    "%pylab inline\n",
    "from sys import float_info"
   ]
  },
  {
   "cell_type": "code",
   "execution_count": 2,
   "metadata": {
    "collapsed": false
   },
   "outputs": [],
   "source": [
    "class Rng:\n",
    "    def gen(self):\n",
    "        while True:\n",
    "            yield self.next()\n",
    "\n",
    "class Lcg(Rng):\n",
    "    def __init__(self, m, a, c, x = 0):\n",
    "        self.m = m\n",
    "        self.a = a\n",
    "        self.c = c\n",
    "        self.x = x\n",
    "\n",
    "    def next(self):\n",
    "        self.x = (self.a * self.x + self.c) % self.m\n",
    "        return self.x\n",
    "\n",
    "    def seed(self, x):\n",
    "        self.x = x\n",
    "\n",
    "class FloatWrapper(Rng):\n",
    "    def __init__(self, gen, max_):\n",
    "        self.gen = gen\n",
    "        self.max_ = max_\n",
    "        \n",
    "    def next(self):\n",
    "        return (self.gen.next() / self.max_)\n",
    "\n",
    "class ModWrapper(Rng):\n",
    "    def __init__(self, gen, mod_):\n",
    "        self.gen = gen\n",
    "        self.mod_ = mod_\n",
    "        \n",
    "    def next(self):\n",
    "        return self.gen.next() % self.mod_\n",
    "        \n",
    "class Mmg(Rng):\n",
    "    k = 256\n",
    "    n = 100\n",
    "    \n",
    "    def __init__(self, g_1, g_2, mod_):\n",
    "        self.mod_ = mod_\n",
    "        self.v = [g_1.next() for i in range(self.k)]        \n",
    "        self.g_1 = g_1\n",
    "        self.g_2 = g_2\n",
    "            \n",
    "    def next(self):\n",
    "        x = self.g_1.next()\n",
    "        y = self.g_2.next() / self.mod_\n",
    "        j = int(y * self.k)\n",
    "        result = self.v[j]\n",
    "        self.v[j] = x\n",
    "        return result\n",
    "\n",
    "def moment(xs, n):\n",
    "    return mean(xs ** n)\n",
    "\n",
    "def central_moment(xs, n):\n",
    "    return mean(abs((xs - mean(xs)) ** n))\n",
    "\n",
    "def compute_moments(g, n = 2016):\n",
    "    seq = array([g.next() for i in range(n)])\n",
    "    return array([moment(seq, n) for n in range(1, 5 + 1)])\n",
    "\n",
    "def compute_central_moments(g, n = 2016):\n",
    "    seq = array([g.next() for i in range(n)])\n",
    "    return array([central_moment(seq, n) for n in range(1, 5 + 1)])"
   ]
  },
  {
   "cell_type": "code",
   "execution_count": 3,
   "metadata": {
    "collapsed": true
   },
   "outputs": [],
   "source": [
    "gs = []\n",
    "gs.append(Lcg(64, 5, 3))\n",
    "gs.append(Lcg(2048, 5, 3))\n",
    "gs.append(Mmg(gs[0], gs[1], 2048))\n",
    "gs.append(Mmg(gs[1], gs[0], 64))\n",
    "\n",
    "modes = [101, 2048, 101, 2048]\n",
    "\n",
    "xis = [FloatWrapper(gs[i], modes[i]) for i in range(4)]\n",
    "\n",
    "zetas = [\n",
    "    [ModWrapper(gs[i], j) for j in range(2, 4 + 1)] for i in range(4)\n",
    "]"
   ]
  },
  {
   "cell_type": "markdown",
   "metadata": {},
   "source": [
    "Moment evaluation intentionally skipped."
   ]
  },
  {
   "cell_type": "markdown",
   "metadata": {},
   "source": [
    "# LAB-02"
   ]
  },
  {
   "cell_type": "code",
   "execution_count": 4,
   "metadata": {
    "collapsed": false
   },
   "outputs": [],
   "source": [
    "from itertools import islice, zip_longest\n",
    "from scipy.special import erfc, gammaincc, erf, gammainc, gamma\n",
    "from sys import stderr\n",
    "from collections import Counter\n",
    "from pprint import pprint"
   ]
  },
  {
   "cell_type": "code",
   "execution_count": 5,
   "metadata": {
    "collapsed": true
   },
   "outputs": [],
   "source": [
    "class Lfsr(Rng):\n",
    "    def __init__(self, state, poly):\n",
    "        self.state = array(state) % 2\n",
    "        self.poly = array(poly) % 2\n",
    "        assert (self.state.shape == self.poly.shape)\n",
    "    \n",
    "    def next(self):\n",
    "        result = self.state[0]\n",
    "        self.state = concatenate((self.state[1:], [sum(self.state * self.poly) % 2]))\n",
    "        return result\n",
    "\n",
    "class Ssg(Rng):\n",
    "    def __init__(self, g):\n",
    "        self.g = g\n",
    "    \n",
    "    def next(self):\n",
    "        while not(self.g.next()):\n",
    "            self.g.next()\n",
    "        return self.g.next()"
   ]
  },
  {
   "cell_type": "code",
   "execution_count": 6,
   "metadata": {
    "collapsed": false
   },
   "outputs": [],
   "source": [
    "def to_bits(seq, bits_per_num):\n",
    "    for num in seq:\n",
    "        for i in range(bits_per_num):\n",
    "            yield num % 2\n",
    "            num = num // 2\n",
    "\n",
    "def from_bits(seq, bits_per_num):\n",
    "    seq = iter(seq)\n",
    "    while True:\n",
    "        result = 0\n",
    "        mul = 1\n",
    "        for i in range(bits_per_num):\n",
    "            result += mul * next(seq)\n",
    "            mul *= 2\n",
    "        yield result"
   ]
  },
  {
   "cell_type": "code",
   "execution_count": 7,
   "metadata": {
    "collapsed": false
   },
   "outputs": [],
   "source": [
    "def monobit_test(seq):\n",
    "    sum_ = 0\n",
    "    n = 0\n",
    "    for bit in seq:\n",
    "        sum_ += 2 * bit - 1\n",
    "        n += 1\n",
    "    print(n)\n",
    "    print(sum_)\n",
    "    stat = abs(sum_) / sqrt(2 * n)\n",
    "    print(stat)\n",
    "    p = erfc(stat)\n",
    "    return p\n",
    "\n",
    "def berlekamp_massey(s):\n",
    "    s = array(s)\n",
    "    n = len(s)\n",
    "    c = zeros(n, dtype=np.bool)\n",
    "    c[0] = 1\n",
    "    L = 0\n",
    "    m = -1\n",
    "    b = zeros(n, dtype=np.bool)\n",
    "    b[0] = 1\n",
    "    for N in range(n):\n",
    "        d = (s[N] + sum(c[1:L + 1] * s[N - L:N][::-1])) % 2\n",
    "        if d == 1:\n",
    "            t = np.copy(c)\n",
    "            c = (c + concatenate((zeros(N - m), b))[:n]) % 2\n",
    "            if L <= N // 2:\n",
    "                L = N + 1 - L\n",
    "                m = N\n",
    "                b = t\n",
    "    return L\n",
    "\n",
    "def linear_complexity_test(seq, M):\n",
    "    K = 6\n",
    "    n = len(seq) // M * M\n",
    "    N = n // M\n",
    "    seq = array(seq)[:n].reshape((N, M))\n",
    "    L = apply_along_axis(berlekamp_massey, arr=seq, axis=1)\n",
    "    print(L.mean())\n",
    "    mu = M / 2 + (9 + (-1) ** M + 1) / 36 - (M / 3 + 2 / 9) / 2 ** M\n",
    "    print(mu)\n",
    "    T = np.apply_along_axis(lambda L: (-1) ** M * (L - mu) + 2 / 9, arr=L, axis=0)\n",
    "    v_stops = np.concatenate(([-inf], np.linspace(-2.5, 2.5, 6) ,[inf]))\n",
    "    v_cums = sum(T.reshape((-1, 1)) <= v_stops, axis=0)\n",
    "    v = v_cums[1:] - v_cums[:-1]\n",
    "    print(v)\n",
    "    pi = np.array([0.010417, 0.03125, 0.125, 0.5, 0.25, 0.0625, 0.020833])\n",
    "    chi = sum((v - N * pi) ** 2 / (N * pi))\n",
    "    print(chi)\n",
    "    p = gammaincc(K / 2, chi / 2)\n",
    "    print(p)\n",
    "    return p"
   ]
  },
  {
   "cell_type": "code",
   "execution_count": 8,
   "metadata": {
    "collapsed": false
   },
   "outputs": [],
   "source": [
    "#DOESN'T WORK\n",
    "\n",
    "def random_excrusion_test_not_working(seq):\n",
    "    x = array(list(seq)) * 2 - 1\n",
    "    s = cumsum(x)\n",
    "    J = sum(s == 0) + 1\n",
    "    #print(J)\n",
    "    cycles = split(s, where(s == 0)[0])\n",
    "    #print(cycle)\n",
    "    v = Counter()\n",
    "    for cycle in split(s, where(s == 0)[0]):\n",
    "        cycle = clip(cycle, -5, 5)\n",
    "        #print(cycle)\n",
    "        cnt = Counter(cycle) # x: count\n",
    "        #print(sorted(list(cnt)))\n",
    "        v.update({(x, cnt[x]): 1 for x in range(-4, 4 + 1)}) # (x: k) n of such cycles\n",
    "    #print(v)\n",
    "    pi = array([\n",
    "        [1.0000, 0.0000, 0.0000, 0.0000, 0.0000, 0.0000],\n",
    "        [0.5000, 0.2500, 0.1250, 0.0625, 0.0312, 0.0312],\n",
    "        [0.7500, 0.0625, 0.0469, 0.0352, 0.0264, 0.0791],\n",
    "        [0.8333, 0.0278, 0.0231, 0.0193, 0.0161, 0.0804],\n",
    "        [0.8750, 0.0156, 0.0137, 0.0120, 0.0105, 0.0733]\n",
    "    ])\n",
    "    v_arr_pos = array([[v[(x, k)] for k in range(5 + 1)] for x in range(4 + 1)])\n",
    "    v_arr_neg = array([[v[(-x, k)] for k in range(5 + 1)] for x in range(4 + 1)])\n",
    "    chi_pos = sum((v_arr_pos[1:] - J * pi[1:]) ** 2 / (J * pi[1:]), axis = 1)\n",
    "    chi_neg = sum((v_arr_neg[1:] - J * pi[1:]) ** 2 / (J * pi[1:]), axis = 1)\n",
    "    #print(chi_pos)\n",
    "    #print(chi_neg)\n",
    "    p_pos = gammaincc(5 / 2, chi_pos / 2)\n",
    "    p_neg = gammaincc(5 / 2, chi_neg / 2)\n",
    "    #print(p_pos)\n",
    "    #print(p_neg)\n",
    "    p = concatenate((p_neg, p_pos))\n",
    "    #print(p)\n",
    "    return p"
   ]
  },
  {
   "cell_type": "code",
   "execution_count": 9,
   "metadata": {
    "collapsed": false
   },
   "outputs": [],
   "source": [
    "lfsrs = [\n",
    "    Lfsr([1] * 32, [i + 1 in [32, 22, 2, 1] for i in range(32)]),\n",
    "    Lfsr([1] * 33, [i + 1 in [33, 20] for i in range(33)]),\n",
    "]"
   ]
  },
  {
   "cell_type": "code",
   "execution_count": 10,
   "metadata": {
    "collapsed": true
   },
   "outputs": [],
   "source": [
    "ssg = Ssg(lfsrs[0])"
   ]
  },
  {
   "cell_type": "code",
   "execution_count": 11,
   "metadata": {
    "collapsed": false
   },
   "outputs": [
    {
     "name": "stdout",
     "output_type": "stream",
     "text": [
      ".."
     ]
    },
    {
     "ename": "KeyboardInterrupt",
     "evalue": "",
     "output_type": "error",
     "traceback": [
      "\u001b[0;31m---------------------------------------------------------------------------\u001b[0m",
      "\u001b[0;31mKeyboardInterrupt\u001b[0m                         Traceback (most recent call last)",
      "\u001b[0;32m<ipython-input-11-808d653b67fd>\u001b[0m in \u001b[0;36m<module>\u001b[0;34m()\u001b[0m\n\u001b[1;32m      4\u001b[0m \u001b[0mseq_ssg\u001b[0m \u001b[0;34m=\u001b[0m \u001b[0mlist\u001b[0m\u001b[0;34m(\u001b[0m\u001b[0mislice\u001b[0m\u001b[0;34m(\u001b[0m\u001b[0mssg\u001b[0m\u001b[0;34m.\u001b[0m\u001b[0mgen\u001b[0m\u001b[0;34m(\u001b[0m\u001b[0;34m)\u001b[0m\u001b[0;34m,\u001b[0m \u001b[0mint\u001b[0m\u001b[0;34m(\u001b[0m\u001b[0;36m1e6\u001b[0m\u001b[0;34m)\u001b[0m\u001b[0;34m)\u001b[0m\u001b[0;34m)\u001b[0m\u001b[0;34m\u001b[0m\u001b[0m\n\u001b[1;32m      5\u001b[0m \u001b[0mprint\u001b[0m\u001b[0;34m(\u001b[0m\u001b[0;34m'.'\u001b[0m\u001b[0;34m,\u001b[0m \u001b[0mend\u001b[0m\u001b[0;34m=\u001b[0m\u001b[0;34m''\u001b[0m\u001b[0;34m)\u001b[0m\u001b[0;34m\u001b[0m\u001b[0m\n\u001b[0;32m----> 6\u001b[0;31m \u001b[0mseq_lfsr\u001b[0m \u001b[0;34m=\u001b[0m \u001b[0mlist\u001b[0m\u001b[0;34m(\u001b[0m\u001b[0mislice\u001b[0m\u001b[0;34m(\u001b[0m\u001b[0mlfsrs\u001b[0m\u001b[0;34m[\u001b[0m\u001b[0;36m0\u001b[0m\u001b[0;34m]\u001b[0m\u001b[0;34m.\u001b[0m\u001b[0mgen\u001b[0m\u001b[0;34m(\u001b[0m\u001b[0;34m)\u001b[0m\u001b[0;34m,\u001b[0m \u001b[0mint\u001b[0m\u001b[0;34m(\u001b[0m\u001b[0;36m1e6\u001b[0m\u001b[0;34m)\u001b[0m\u001b[0;34m)\u001b[0m\u001b[0;34m)\u001b[0m\u001b[0;34m\u001b[0m\u001b[0m\n\u001b[0m\u001b[1;32m      7\u001b[0m \u001b[0mprint\u001b[0m\u001b[0;34m(\u001b[0m\u001b[0;34m'.'\u001b[0m\u001b[0;34m,\u001b[0m \u001b[0mend\u001b[0m\u001b[0;34m=\u001b[0m\u001b[0;34m''\u001b[0m\u001b[0;34m)\u001b[0m\u001b[0;34m\u001b[0m\u001b[0m\n",
      "\u001b[0;32m<ipython-input-2-39a15c0bd2b4>\u001b[0m in \u001b[0;36mgen\u001b[0;34m(self)\u001b[0m\n\u001b[1;32m      2\u001b[0m     \u001b[0;32mdef\u001b[0m \u001b[0mgen\u001b[0m\u001b[0;34m(\u001b[0m\u001b[0mself\u001b[0m\u001b[0;34m)\u001b[0m\u001b[0;34m:\u001b[0m\u001b[0;34m\u001b[0m\u001b[0m\n\u001b[1;32m      3\u001b[0m         \u001b[0;32mwhile\u001b[0m \u001b[0;32mTrue\u001b[0m\u001b[0;34m:\u001b[0m\u001b[0;34m\u001b[0m\u001b[0m\n\u001b[0;32m----> 4\u001b[0;31m             \u001b[0;32myield\u001b[0m \u001b[0mself\u001b[0m\u001b[0;34m.\u001b[0m\u001b[0mnext\u001b[0m\u001b[0;34m(\u001b[0m\u001b[0;34m)\u001b[0m\u001b[0;34m\u001b[0m\u001b[0m\n\u001b[0m\u001b[1;32m      5\u001b[0m \u001b[0;34m\u001b[0m\u001b[0m\n\u001b[1;32m      6\u001b[0m \u001b[0;32mclass\u001b[0m \u001b[0mLcg\u001b[0m\u001b[0;34m(\u001b[0m\u001b[0mRng\u001b[0m\u001b[0;34m)\u001b[0m\u001b[0;34m:\u001b[0m\u001b[0;34m\u001b[0m\u001b[0m\n",
      "\u001b[0;32m<ipython-input-5-848316c6a145>\u001b[0m in \u001b[0;36mnext\u001b[0;34m(self)\u001b[0m\n\u001b[1;32m      7\u001b[0m     \u001b[0;32mdef\u001b[0m \u001b[0mnext\u001b[0m\u001b[0;34m(\u001b[0m\u001b[0mself\u001b[0m\u001b[0;34m)\u001b[0m\u001b[0;34m:\u001b[0m\u001b[0;34m\u001b[0m\u001b[0m\n\u001b[1;32m      8\u001b[0m         \u001b[0mresult\u001b[0m \u001b[0;34m=\u001b[0m \u001b[0mself\u001b[0m\u001b[0;34m.\u001b[0m\u001b[0mstate\u001b[0m\u001b[0;34m[\u001b[0m\u001b[0;36m0\u001b[0m\u001b[0;34m]\u001b[0m\u001b[0;34m\u001b[0m\u001b[0m\n\u001b[0;32m----> 9\u001b[0;31m         \u001b[0mself\u001b[0m\u001b[0;34m.\u001b[0m\u001b[0mstate\u001b[0m \u001b[0;34m=\u001b[0m \u001b[0mconcatenate\u001b[0m\u001b[0;34m(\u001b[0m\u001b[0;34m(\u001b[0m\u001b[0mself\u001b[0m\u001b[0;34m.\u001b[0m\u001b[0mstate\u001b[0m\u001b[0;34m[\u001b[0m\u001b[0;36m1\u001b[0m\u001b[0;34m:\u001b[0m\u001b[0;34m]\u001b[0m\u001b[0;34m,\u001b[0m \u001b[0;34m[\u001b[0m\u001b[0msum\u001b[0m\u001b[0;34m(\u001b[0m\u001b[0mself\u001b[0m\u001b[0;34m.\u001b[0m\u001b[0mstate\u001b[0m \u001b[0;34m*\u001b[0m \u001b[0mself\u001b[0m\u001b[0;34m.\u001b[0m\u001b[0mpoly\u001b[0m\u001b[0;34m)\u001b[0m \u001b[0;34m%\u001b[0m \u001b[0;36m2\u001b[0m\u001b[0;34m]\u001b[0m\u001b[0;34m)\u001b[0m\u001b[0;34m)\u001b[0m\u001b[0;34m\u001b[0m\u001b[0m\n\u001b[0m\u001b[1;32m     10\u001b[0m         \u001b[0;32mreturn\u001b[0m \u001b[0mresult\u001b[0m\u001b[0;34m\u001b[0m\u001b[0m\n\u001b[1;32m     11\u001b[0m \u001b[0;34m\u001b[0m\u001b[0m\n",
      "\u001b[0;31mKeyboardInterrupt\u001b[0m: "
     ]
    }
   ],
   "source": [
    "with open('./e.txt') as f:\n",
    "    seq_e = array([int(s) for s in f.read()])\n",
    "print('.', end='')\n",
    "seq_ssg = list(islice(ssg.gen(), int(1e6)))\n",
    "print('.', end='')\n",
    "seq_lfsr = list(islice(lfsrs[0].gen(), int(1e6)))\n",
    "print('.', end='')\n"
   ]
  },
  {
   "cell_type": "code",
   "execution_count": 12,
   "metadata": {
    "collapsed": false
   },
   "outputs": [
    {
     "name": "stdout",
     "output_type": "stream",
     "text": [
      "1000000\n",
      "58\n",
      "0.0410121933088\n"
     ]
    },
    {
     "data": {
      "text/plain": [
       "0.95374862852832321"
      ]
     },
     "execution_count": 12,
     "metadata": {},
     "output_type": "execute_result"
    }
   ],
   "source": [
    "monobit_test(seq_e)"
   ]
  },
  {
   "cell_type": "code",
   "execution_count": 13,
   "metadata": {
    "collapsed": false
   },
   "outputs": [
    {
     "name": "stdout",
     "output_type": "stream",
     "text": [
      "1000000\n",
      "1350\n",
      "0.954594154602\n"
     ]
    },
    {
     "data": {
      "text/plain": [
       "0.17701598287480413"
      ]
     },
     "execution_count": 13,
     "metadata": {},
     "output_type": "execute_result"
    }
   ],
   "source": [
    "monobit_test(seq_ssg)"
   ]
  },
  {
   "cell_type": "code",
   "execution_count": 14,
   "metadata": {
    "collapsed": false
   },
   "outputs": [
    {
     "ename": "NameError",
     "evalue": "name 'seq_lfsr' is not defined",
     "output_type": "error",
     "traceback": [
      "\u001b[0;31m---------------------------------------------------------------------------\u001b[0m",
      "\u001b[0;31mNameError\u001b[0m                                 Traceback (most recent call last)",
      "\u001b[0;32m<ipython-input-14-d48376b1d294>\u001b[0m in \u001b[0;36m<module>\u001b[0;34m()\u001b[0m\n\u001b[0;32m----> 1\u001b[0;31m \u001b[0mmonobit_test\u001b[0m\u001b[0;34m(\u001b[0m\u001b[0mseq_lfsr\u001b[0m\u001b[0;34m)\u001b[0m\u001b[0;34m\u001b[0m\u001b[0m\n\u001b[0m",
      "\u001b[0;31mNameError\u001b[0m: name 'seq_lfsr' is not defined"
     ]
    }
   ],
   "source": [
    "monobit_test(seq_lfsr)"
   ]
  },
  {
   "cell_type": "code",
   "execution_count": null,
   "metadata": {
    "collapsed": false
   },
   "outputs": [],
   "source": [
    "monobit_test(islice(to_bits(gs[0].gen(), 6), int(1e6)))"
   ]
  },
  {
   "cell_type": "code",
   "execution_count": null,
   "metadata": {
    "collapsed": false
   },
   "outputs": [],
   "source": [
    "monobit_test(islice(to_bits(gs[1].gen(), 11), int(1e6)))"
   ]
  },
  {
   "cell_type": "code",
   "execution_count": null,
   "metadata": {
    "collapsed": false
   },
   "outputs": [],
   "source": [
    "monobit_test(islice(to_bits(gs[2].gen(), 6), int(1e6)))"
   ]
  },
  {
   "cell_type": "code",
   "execution_count": null,
   "metadata": {
    "collapsed": false
   },
   "outputs": [],
   "source": [
    "monobit_test(islice(to_bits(gs[3].gen(), 11), int(1e6)))"
   ]
  },
  {
   "cell_type": "markdown",
   "metadata": {
    "collapsed": false
   },
   "source": [
    "random_excrusion_test(test_bits)"
   ]
  },
  {
   "cell_type": "code",
   "execution_count": null,
   "metadata": {
    "collapsed": false
   },
   "outputs": [],
   "source": [
    "%time linear_complexity_test(seq_ssg, 1000)"
   ]
  },
  {
   "cell_type": "code",
   "execution_count": null,
   "metadata": {
    "collapsed": false
   },
   "outputs": [],
   "source": [
    "%time linear_complexity_test(seq_e, 1000)"
   ]
  },
  {
   "cell_type": "markdown",
   "metadata": {
    "collapsed": true
   },
   "source": [
    "# Lab 03"
   ]
  },
  {
   "cell_type": "code",
   "execution_count": 11,
   "metadata": {
    "collapsed": false
   },
   "outputs": [],
   "source": [
    "class NativeGenWrapper(Rng):\n",
    "    def __init__(self, g):\n",
    "        self.g = g\n",
    "    \n",
    "    def next(self):\n",
    "        return next(self.g)\n",
    "\n",
    "    def gen(self):\n",
    "        return self.g\n",
    "\n",
    "class UniformWrapper(Rng):\n",
    "    def __init__(self, b_gen, bits_per_num=16):\n",
    "        self.g = NativeGenWrapper(from_bits(b_gen.gen(), bits_per_num))\n",
    "        self.max = 2 ** bits_per_num\n",
    "    \n",
    "    def next(self):\n",
    "        return self.g.next() / self.max\n",
    "\n",
    "class BernoulliGen(Rng):\n",
    "    def __init__(self, bit_gen, p, bits_per_num=16):\n",
    "        self.threshold = int(p * (2 ** bits_per_num))\n",
    "        self.gen = NativeGenWrapper(from_bits(bit_gen.gen(), bits_per_num))\n",
    "    \n",
    "    def next(self):\n",
    "        return int(self.gen.next() <= self.threshold)\n",
    "\n",
    "class GeomGen(Rng):\n",
    "    def __init__(self, b_gen):\n",
    "        \"\"\"b_gen is elementary bernoulli random number generator\"\"\"\n",
    "        self.b_gen = b_gen\n",
    "        \n",
    "    def next(self):\n",
    "        result = 0\n",
    "        while not(self.b_gen.next()):\n",
    "            result += 1\n",
    "        return result"
   ]
  },
  {
   "cell_type": "markdown",
   "metadata": {},
   "source": [
    "#### Found somewhere in my C++ course assignments.\n",
    "\n",
    "```\n",
    "double TGaussRng::InverseDistribution(double p) const {\n",
    "  double p_low = p < 0.5 ? p : 1.0 - p;\n",
    "  double t = sqrt(-2.0 * log(p_low));\n",
    "  // numeric approximation\n",
    "  double c[] = {2.515517, 0.802853, 0.010328};\n",
    "  double d[] = {1.432788, 0.189269, 0.001308};\n",
    "  double tmp = t - ((c[2]*t + c[1])*t + c[0]) /\n",
    "    (((d[2]*t + d[1])*t + d[0])*t + 1.0);\n",
    "  double base_inverse = p < 0.5 ? -tmp : tmp;\n",
    "  return mu_ + sigma_ * base_inverse;\n",
    "}\n",
    "```"
   ]
  },
  {
   "cell_type": "code",
   "execution_count": 12,
   "metadata": {
    "collapsed": true
   },
   "outputs": [],
   "source": [
    "def icdf_gauss(p):\n",
    "    p_low = p if p < 0.5 else 1 - p\n",
    "    if p_low == 0:\n",
    "        p_low += float_info.epsilon\n",
    "    t = sqrt(-2 * log(p_low))\n",
    "    c = [2.515517, 0.802853, 0.010328]\n",
    "    d = [1.432788, 0.189269, 0.001308]\n",
    "    tmp = t - ((c[2] * t + c[1]) * t + c[0]) / (((d[2] * t + d[1]) * t + d[0]) * t + 1.0)\n",
    "    base_inverse = -tmp if p < 0.5 else tmp\n",
    "    return base_inverse\n",
    "\n",
    "def icdf_exp1(p):\n",
    "    return -log(1 - p)"
   ]
  },
  {
   "cell_type": "code",
   "execution_count": 13,
   "metadata": {
    "collapsed": false
   },
   "outputs": [],
   "source": [
    "def UniformTransformGen(transform):\n",
    "    class ResultGen(Rng):\n",
    "        def __init__(self, u_gen):\n",
    "            self.u_gen = u_gen\n",
    "        \n",
    "        def next(self):\n",
    "            return transform(self.u_gen.next())\n",
    "    \n",
    "    return ResultGen\n",
    "\n",
    "Exp1Gen = UniformTransformGen(icdf_exp1)\n",
    "\n",
    "class GaussianGen(Rng):\n",
    "    def __init__(self, u_gen, sigma=1, mu=0):\n",
    "        \"\"\"u_gen is is uniform rng from 0 to 1\"\"\"\n",
    "        self.u_gen = u_gen\n",
    "        self.sigma = 1\n",
    "        self.mu = 0\n",
    "    \n",
    "    def next(self):\n",
    "        return icdf(self.u_gen.next()) * self.sigma + self.mu"
   ]
  },
  {
   "cell_type": "code",
   "execution_count": 14,
   "metadata": {
    "collapsed": true
   },
   "outputs": [],
   "source": [
    "class CoolGaussianGen(Rng):\n",
    "    def __init__(self, u_gen):\n",
    "        self.u_gen = u_gen\n",
    "        self.cached = None\n",
    "    \n",
    "    def next(self):\n",
    "        if self.cached != None:\n",
    "            result = self.cached\n",
    "            self.cached = None\n",
    "            return result\n",
    "        else:\n",
    "            u_1 = self.u_gen.next()\n",
    "            if u_1 == 0:\n",
    "                u_1 = float_info.epsilon\n",
    "            u_2 = self.u_gen.next()\n",
    "            r = sqrt(-2 * log(u_1))\n",
    "            theta = 2 * pi * u_2\n",
    "            self.cached = r * cos(theta)\n",
    "            return r * sin(theta)"
   ]
  },
  {
   "cell_type": "markdown",
   "metadata": {},
   "source": [
    "### Gamma"
   ]
  },
  {
   "cell_type": "code",
   "execution_count": 15,
   "metadata": {
    "collapsed": false
   },
   "outputs": [],
   "source": [
    "class ExponentialGen(Rng):\n",
    "    def __init__(self, u_gen, lambda_=1):\n",
    "        self.u_gen = u_gen\n",
    "        self.lambda_ = lambda_\n",
    "    \n",
    "    def next(self):\n",
    "        p = self.u_gen.next()\n",
    "        if p == 1:\n",
    "            p -= float_info.epsilon\n",
    "        return - log(1 - p) / self.lambda_\n",
    "\n",
    "# this sh*it\n",
    "class GammaPrimitiveGen(Rng):\n",
    "    def __init__(self, u_gen, delta):\n",
    "        self.u_gen = u_gen\n",
    "        self.delta = delta\n",
    "    \n",
    "    def next(self):\n",
    "        if self.delta == 0:\n",
    "            return 0\n",
    "        while True:\n",
    "            u, v, w = list(islice(self.u_gen.gen(), 3))\n",
    "            if u < e / (e + self.delta):\n",
    "                xi = v ** (1 / self.delta)\n",
    "                eta = w * e ** (self.delta - 1)\n",
    "            else:\n",
    "                xi = 1 - log(v)\n",
    "                eta = w * e ** (-xi)\n",
    "            if eta <= xi ** (self.delta - 1) * e ** (-xi):\n",
    "                break\n",
    "        return xi\n",
    "\n",
    "class GammaGen(Rng):\n",
    "    def __init__(self, u_gen, k, theta):\n",
    "        self.u_gen = u_gen\n",
    "        self.k_whole = int(floor(k))\n",
    "        self.exp_gen = ExponentialGen(u_gen)\n",
    "        self.gp_gen = GammaPrimitiveGen(u_gen, k - self.k_whole)\n",
    "        self.theta = theta\n",
    "    \n",
    "    def next(self):\n",
    "        result = sum(list(islice(self.exp_gen.gen(), self.k_whole))) + self.gp_gen.next()\n",
    "        return self.theta * result"
   ]
  },
  {
   "cell_type": "markdown",
   "metadata": {},
   "source": [
    "# Evaluating\n",
    "## Moments"
   ]
  },
  {
   "cell_type": "code",
   "execution_count": 19,
   "metadata": {
    "collapsed": false
   },
   "outputs": [],
   "source": [
    "geom_g = GeomGen(BernoulliGen(ssg, 0.1))\n",
    "uniform_g = UniformWrapper(ssg, bits_per_num=24)\n",
    "gauss_g = GaussianGen(uniform_g)\n",
    "exp1_g = Exp1Gen(uniform_g)\n",
    "cg_g = CoolGaussianGen(uniform_g)\n",
    "gamma_g = GammaGen(uniform_g, 2, 1)"
   ]
  },
  {
   "cell_type": "code",
   "execution_count": 64,
   "metadata": {
    "collapsed": false
   },
   "outputs": [
    {
     "name": "stdout",
     "output_type": "stream",
     "text": [
      "CPU times: user 1min 24s, sys: 490 ms, total: 1min 25s\n",
      "Wall time: 1min 24s\n",
      "9.0043 9.47882279136\n"
     ]
    }
   ],
   "source": [
    "%time seq_geom = array(list(islice(geom_g.gen(), 10000)))\n",
    "print(seq_geom.mean(), seq_geom.std())"
   ]
  },
  {
   "cell_type": "code",
   "execution_count": 31,
   "metadata": {
    "collapsed": false
   },
   "outputs": [
    {
     "data": {
      "text/plain": [
       "[<matplotlib.lines.Line2D at 0x7f22203e36a0>]"
      ]
     },
     "execution_count": 31,
     "metadata": {},
     "output_type": "execute_result"
    },
    {
     "data": {
      "image/png": "[encoded data removed]",
      "text/plain": [
       "<matplotlib.figure.Figure at 0x7f22203e36d8>"
      ]
     },
     "metadata": {},
     "output_type": "display_data"
    }
   ],
   "source": [
    "hist(seq_geom, 100, normed=1, range=(0, 100))\n",
    "xs = np.linspace(0, 100, 101)\n",
    "p = 0.1\n",
    "q = 1 - p\n",
    "ys = [p * q ** x for x in xs]\n",
    "plot(xs, ys, 'r')"
   ]
  },
  {
   "cell_type": "code",
   "execution_count": 32,
   "metadata": {
    "collapsed": false
   },
   "outputs": [
    {
     "data": {
      "text/plain": [
       "[<matplotlib.lines.Line2D at 0x7f22203f7e80>]"
      ]
     },
     "execution_count": 32,
     "metadata": {},
     "output_type": "execute_result"
    },
    {
     "data": {
      "image/png": "[encoded data removed]",
      "text/plain": [
       "<matplotlib.figure.Figure at 0x7f22203f7f28>"
      ]
     },
     "metadata": {},
     "output_type": "display_data"
    }
   ],
   "source": [
    "xs = np.linspace(0, 1, 101)\n",
    "ys = np.percentile(seq_geom, xs * 100)\n",
    "plot(xs, ys)\n",
    "xs = np.linspace(0, 100, 101)\n",
    "ys = [1 - q ** x for x in xs]\n",
    "plot(ys, xs, 'r')"
   ]
  },
  {
   "cell_type": "code",
   "execution_count": 33,
   "metadata": {
    "collapsed": false
   },
   "outputs": [
    {
     "name": "stdout",
     "output_type": "stream",
     "text": [
      "CPU times: user 11.9 s, sys: 207 ms, total: 12.1 s\n",
      "Wall time: 11.8 s\n",
      "0.00128199606316 0.997675553107\n"
     ]
    }
   ],
   "source": [
    "%time seq_gauss = array(list(islice(cg_g.gen(), 10000)))\n",
    "print(seq_gauss.mean(), seq_gauss.std())"
   ]
  },
  {
   "cell_type": "code",
   "execution_count": 34,
   "metadata": {
    "collapsed": false
   },
   "outputs": [
    {
     "data": {
      "text/plain": [
       "[<matplotlib.lines.Line2D at 0x7f22201f30f0>]"
      ]
     },
     "execution_count": 34,
     "metadata": {},
     "output_type": "execute_result"
    },
    {
     "data": {
      "image/png": "[encoded data removed]",
      "text/plain": [
       "<matplotlib.figure.Figure at 0x7f22201f35f8>"
      ]
     },
     "metadata": {},
     "output_type": "display_data"
    }
   ],
   "source": [
    "hist(seq_gauss, 100, normed=True)\n",
    "xs = np.linspace(-4, 4, 101)\n",
    "sigma = 1\n",
    "mu = 0\n",
    "ys = [1 / sqrt(2 * sigma ** 2 * pi) * e ** (-(x - mu) ** 2 / (2 * sigma ** 2)) for x in xs]\n",
    "plot(xs, ys, 'r')"
   ]
  },
  {
   "cell_type": "code",
   "execution_count": 35,
   "metadata": {
    "collapsed": false
   },
   "outputs": [
    {
     "data": {
      "text/plain": [
       "[<matplotlib.lines.Line2D at 0x7f221ffe3358>]"
      ]
     },
     "execution_count": 35,
     "metadata": {},
     "output_type": "execute_result"
    },
    {
     "data": {
      "image/png": "[encoded data removed]",
      "text/plain": [
       "<matplotlib.figure.Figure at 0x7f221ffe38d0>"
      ]
     },
     "metadata": {},
     "output_type": "display_data"
    }
   ],
   "source": [
    "xs = np.linspace(0, 1, 101)\n",
    "ys = np.percentile(seq_gauss, xs * 100)\n",
    "plot(xs, ys)\n",
    "xs = np.linspace(-4, 4, 101)\n",
    "ys = 0.5 * (1 + erf(sqrt(0.5) * (xs - mu) / sigma))\n",
    "plot(ys, xs, 'r')"
   ]
  },
  {
   "cell_type": "code",
   "execution_count": 36,
   "metadata": {
    "collapsed": false
   },
   "outputs": [
    {
     "name": "stdout",
     "output_type": "stream",
     "text": [
      "CPU times: user 23.5 s, sys: 287 ms, total: 23.7 s\n",
      "Wall time: 23.3 s\n",
      "2.02138494804 1.43664239286\n"
     ]
    }
   ],
   "source": [
    "%time seq_gamma = array(list(islice(gamma_g.gen(), 10000)))\n",
    "print(seq_gamma.mean(), seq_gamma.std())"
   ]
  },
  {
   "cell_type": "code",
   "execution_count": 47,
   "metadata": {
    "collapsed": false
   },
   "outputs": [
    {
     "data": {
      "text/plain": [
       "[<matplotlib.lines.Line2D at 0x7f221f9996a0>]"
      ]
     },
     "execution_count": 47,
     "metadata": {},
     "output_type": "execute_result"
    },
    {
     "data": {
      "image/png": "[encoded data removed]",
      "text/plain": [
       "<matplotlib.figure.Figure at 0x7f221f999780>"
      ]
     },
     "metadata": {},
     "output_type": "display_data"
    }
   ],
   "source": [
    "hist(seq_gamma, 100, normed=1)\n",
    "xs = np.linspace(0, 10, 101)\n",
    "k = 2\n",
    "theta = 1\n",
    "ys = [x ** (k - 1) * e ** (-x / theta) / (theta ** k * gamma(k)) for x in xs]\n",
    "plot(xs, ys, 'r')"
   ]
  },
  {
   "cell_type": "code",
   "execution_count": 46,
   "metadata": {
    "collapsed": false
   },
   "outputs": [
    {
     "data": {
      "text/plain": [
       "<ufunc 'gamma'>"
      ]
     },
     "execution_count": 46,
     "metadata": {},
     "output_type": "execute_result"
    }
   ],
   "source": [
    "from scipy.special import gamma\n",
    "gamma"
   ]
  },
  {
   "cell_type": "code",
   "execution_count": 48,
   "metadata": {
    "collapsed": false
   },
   "outputs": [
    {
     "data": {
      "text/plain": [
       "[<matplotlib.lines.Line2D at 0x7f221f7a42b0>]"
      ]
     },
     "execution_count": 48,
     "metadata": {},
     "output_type": "execute_result"
    },
    {
     "data": {
      "image/png": "[encoded data removed]",
      "text/plain": [
       "<matplotlib.figure.Figure at 0x7f221f7a40f0>"
      ]
     },
     "metadata": {},
     "output_type": "display_data"
    }
   ],
   "source": [
    "xs = np.linspace(0, 1, 101)\n",
    "ys = np.percentile(seq_gamma, xs * 100)\n",
    "plot(xs, ys)\n",
    "xs = np.linspace(0, 14, 101)\n",
    "ys = gammainc(k, xs / theta)\n",
    "plot(ys, xs, 'r')"
   ]
  },
  {
   "cell_type": "code",
   "execution_count": 65,
   "metadata": {
    "collapsed": false
   },
   "outputs": [],
   "source": [
    "def count_group_freqs(seq, thresholds):\n",
    "    thresholds = array(thresholds)\n",
    "    seq = array(seq)\n",
    "    counts = sum(seq.reshape((-1, 1)) <= thresholds, axis=0)\n",
    "    counts = concatenate(([0], counts, [seq.size]))\n",
    "    return (counts[1:] - counts[:-1])"
   ]
  },
  {
   "cell_type": "code",
   "execution_count": 50,
   "metadata": {
    "collapsed": false
   },
   "outputs": [],
   "source": [
    "def compute_geom_probs(thresholds, p):\n",
    "    q = 1 - p\n",
    "    cum_probs = [1 - q ** (n + 1) for n in thresholds]\n",
    "    ex_probs = concatenate(([0], cum_probs, [1]))\n",
    "    probs = ex_probs[1:] - ex_probs[:-1]\n",
    "    return probs"
   ]
  },
  {
   "cell_type": "code",
   "execution_count": 51,
   "metadata": {
    "collapsed": false
   },
   "outputs": [
    {
     "data": {
      "text/plain": [
       "array([ 0.1       ,  0.09      ,  0.081     ,  0.197559  ,  0.2176304 ,\n",
       "        0.20439161,  0.10478059,  0.0046384 ])"
      ]
     },
     "execution_count": 51,
     "metadata": {},
     "output_type": "execute_result"
    }
   ],
   "source": [
    "compute_geom_probs([0, 1, 2, 5, 10, 20, 50], 0.1)"
   ]
  },
  {
   "cell_type": "code",
   "execution_count": 52,
   "metadata": {
    "collapsed": true
   },
   "outputs": [],
   "source": [
    "def chi_square(probs_expected, freqs_computed):\n",
    "    n = sum(freqs_computed)\n",
    "    k = len(freqs_computed) - 1\n",
    "    probs_computed = freqs_computed / n\n",
    "    chi = n * sum(((probs_expected - probs_computed) ** 2 / probs_expected))\n",
    "    return gammaincc(k / 2, chi / 2)"
   ]
  },
  {
   "cell_type": "markdown",
   "metadata": {},
   "source": [
    "### geom"
   ]
  },
  {
   "cell_type": "code",
   "execution_count": 66,
   "metadata": {
    "collapsed": false
   },
   "outputs": [],
   "source": [
    "geom_thresholds = [0, 1, 2, 5, 10, 20, 40]\n",
    "freqs = count_group_freqs(seq_geom, geom_thresholds)\n",
    "probs_expected = compute_geom_probs(geom_thresholds, 0.1)"
   ]
  },
  {
   "cell_type": "code",
   "execution_count": 67,
   "metadata": {
    "collapsed": false
   },
   "outputs": [
    {
     "data": {
      "text/plain": [
       "0.24744211674728522"
      ]
     },
     "execution_count": 67,
     "metadata": {},
     "output_type": "execute_result"
    }
   ],
   "source": [
    "chi_square(probs_expected, freqs)"
   ]
  },
  {
   "cell_type": "markdown",
   "metadata": {},
   "source": [
    "### gauss"
   ]
  },
  {
   "cell_type": "code",
   "execution_count": 55,
   "metadata": {
    "collapsed": true
   },
   "outputs": [],
   "source": [
    "def compute_gauss_probs(thresholds, sigma=1, mu=0):\n",
    "    cum_probs = [0.5 * (1 + erf((x - mu) / (sigma * sqrt(2))) ) for x in thresholds]\n",
    "    ex_probs = concatenate(([0], cum_probs, [1]))\n",
    "    probs = ex_probs[1:] - ex_probs[:-1]\n",
    "    return probs"
   ]
  },
  {
   "cell_type": "code",
   "execution_count": 56,
   "metadata": {
    "collapsed": false
   },
   "outputs": [],
   "source": [
    "gauss_thresholds = np.linspace(-2.5, 2.5, 6)\n",
    "freqs = count_group_freqs(seq_gauss, gauss_thresholds)\n",
    "probs_expected = compute_gauss_probs(gauss_thresholds)"
   ]
  },
  {
   "cell_type": "code",
   "execution_count": 57,
   "metadata": {
    "collapsed": false
   },
   "outputs": [
    {
     "data": {
      "text/plain": [
       "array([-0.00130967, -0.00069754,  0.00676966, -0.00752492,  0.00226966,\n",
       "        0.00030246,  0.00019033])"
      ]
     },
     "execution_count": 57,
     "metadata": {},
     "output_type": "execute_result"
    }
   ],
   "source": [
    "freqs / sum(freqs) - probs_expected"
   ]
  },
  {
   "cell_type": "code",
   "execution_count": 58,
   "metadata": {
    "collapsed": false
   },
   "outputs": [
    {
     "data": {
      "text/plain": [
       "0.36919841690371552"
      ]
     },
     "execution_count": 58,
     "metadata": {},
     "output_type": "execute_result"
    }
   ],
   "source": [
    "chi_square(probs_expected, freqs)"
   ]
  },
  {
   "cell_type": "markdown",
   "metadata": {},
   "source": [
    "### gamma"
   ]
  },
  {
   "cell_type": "code",
   "execution_count": 59,
   "metadata": {
    "collapsed": true
   },
   "outputs": [],
   "source": [
    "def compute_gamma_probs(thresholds, k, theta):\n",
    "    cum_probs = [gammainc(k, x / theta) for x in thresholds]\n",
    "    ex_probs = concatenate(([0], cum_probs, [1]))\n",
    "    probs = ex_probs[1:] - ex_probs[:-1]\n",
    "    return probs"
   ]
  },
  {
   "cell_type": "code",
   "execution_count": 68,
   "metadata": {
    "collapsed": false
   },
   "outputs": [],
   "source": [
    "#gamma_thresholds = array([0.01, 0.05, 0.2, 0.5, 1, 2])\n",
    "gamma_thresholds = array([0.5, 1.0, 1.5, 2.0, 3.0, 4.0])\n",
    "freqs = count_group_freqs(seq_gamma, gamma_thresholds)\n",
    "probs_expected = compute_gamma_probs(gamma_thresholds, 2, 1)"
   ]
  },
  {
   "cell_type": "code",
   "execution_count": 69,
   "metadata": {
    "collapsed": false
   },
   "outputs": [
    {
     "data": {
      "text/plain": [
       "array([ 0.09020401,  0.17403711,  0.17793348,  0.15181955,  0.20685758,\n",
       "        0.10757008,  0.09157819])"
      ]
     },
     "execution_count": 69,
     "metadata": {},
     "output_type": "execute_result"
    }
   ],
   "source": [
    "probs_expected"
   ]
  },
  {
   "cell_type": "code",
   "execution_count": 70,
   "metadata": {
    "collapsed": false
   },
   "outputs": [
    {
     "data": {
      "text/plain": [
       "0.0"
      ]
     },
     "execution_count": 70,
     "metadata": {},
     "output_type": "execute_result"
    }
   ],
   "source": [
    "chi_square(probs_expected, freqs)"
   ]
  },
  {
   "cell_type": "markdown",
   "metadata": {
    "collapsed": true
   },
   "source": [
    "# LAB4"
   ]
  },
  {
   "cell_type": "markdown",
   "metadata": {},
   "source": [
    "$$\n",
    "\\int_2^{\\infty} \\frac{\\tan(\\frac 1x)}{x^2 + x - 3} dx \n",
    "= -\\int_{0.5}^0 \\frac{\\tan(t)}{(\\frac 1t)^2 + (\\frac 1t) - 3} \\frac{dt}{t^2}\n",
    "= \\int_0^{0.5} \\frac{\\tan(t)}{1 + t - 3 t^2} dt\n",
    "$$"
   ]
  },
  {
   "cell_type": "code",
   "execution_count": 108,
   "metadata": {
    "collapsed": false
   },
   "outputs": [],
   "source": [
    "def monte_carlo_int(bounds, g, u_gen, n_iter = 1000):\n",
    "    n_dims = len(bounds)\n",
    "    bounds = array(bounds)\n",
    "    result = 0.0\n",
    "    inv_density = product(bounds[:, 1] - bounds[:, 0])\n",
    "    for i in range(n_iter):\n",
    "        xs = bounds[:, 0] + array(list(islice(u_gen.gen(), n_dims))) * (bounds[:, 1] - bounds[:, 0])\n",
    "        result += g(xs)\n",
    "    return result * inv_density / n_iter"
   ]
  },
  {
   "cell_type": "code",
   "execution_count": 109,
   "metadata": {
    "collapsed": false
   },
   "outputs": [],
   "source": [
    "uniform_g = UniformWrapper(ssg, bits_per_num=24)"
   ]
  },
  {
   "cell_type": "code",
   "execution_count": 110,
   "metadata": {
    "collapsed": true
   },
   "outputs": [],
   "source": [
    "g1 = lambda ts: tan(ts[0]) / (1 + ts[0] - 3 * ts[0] ** 2)\n",
    "bounds1 = [[0, 0.5]]"
   ]
  },
  {
   "cell_type": "code",
   "execution_count": 122,
   "metadata": {
    "collapsed": false
   },
   "outputs": [
    {
     "name": "stdout",
     "output_type": "stream",
     "text": [
      "CPU times: user 1min 52s, sys: 1.38 s, total: 1min 54s\n",
      "Wall time: 1min 52s\n"
     ]
    },
    {
     "data": {
      "text/plain": [
       "0.13812285784333952"
      ]
     },
     "execution_count": 122,
     "metadata": {},
     "output_type": "execute_result"
    }
   ],
   "source": [
    "%time monte_carlo_int(bounds1, g1, uniform_g, n_iter=100000)"
   ]
  },
  {
   "cell_type": "code",
   "execution_count": 124,
   "metadata": {
    "collapsed": true
   },
   "outputs": [],
   "source": [
    "g2 = lambda xs: (xs[0] + 4) / (xs[0] ** 2 + xs[1] ** 4 + 1)\n",
    "bounds2 = [[-4, 3], [-3, 4]]"
   ]
  },
  {
   "cell_type": "code",
   "execution_count": 125,
   "metadata": {
    "collapsed": false
   },
   "outputs": [
    {
     "name": "stdout",
     "output_type": "stream",
     "text": [
      "CPU times: user 4min 5s, sys: 927 ms, total: 4min 6s\n",
      "Wall time: 4min 5s\n"
     ]
    },
    {
     "data": {
      "text/plain": [
       "25.967025973710637"
      ]
     },
     "execution_count": 125,
     "metadata": {},
     "output_type": "execute_result"
    }
   ],
   "source": [
    "%time monte_carlo_int(bounds2, g2, uniform_g, n_iter=100000)"
   ]
  },
  {
   "cell_type": "markdown",
   "metadata": {},
   "source": [
    "# Система"
   ]
  },
  {
   "cell_type": "code",
   "execution_count": 151,
   "metadata": {
    "collapsed": false
   },
   "outputs": [],
   "source": [
    "with open('system.txt', 'r') as fin:\n",
    "    A = []\n",
    "    for line in fin:\n",
    "        if not(line.strip()):\n",
    "            break\n",
    "        A.append([float(x) for x in line.split()])\n",
    "    A = array(A)\n",
    "    f = array([[float(x)] for x in fin.readline().split()])"
   ]
  },
  {
   "cell_type": "code",
   "execution_count": 166,
   "metadata": {
    "collapsed": true
   },
   "outputs": [],
   "source": [
    "def particle_markov_step(i, p, u_gen):\n",
    "    thresholds = cumsum(p[i])\n",
    "    seed = u_gen.next()\n",
    "    return sum(thresholds < seed)"
   ]
  },
  {
   "cell_type": "code",
   "execution_count": 154,
   "metadata": {
    "collapsed": false
   },
   "outputs": [],
   "source": [
    "def monte_carlo_solve(A, f, u_gen):\n",
    "    xs = []\n",
    "    pi = np.ones_like(f) / float(f.size)\n",
    "    p = np.ones_like(A) / float(A.size)\n",
    "    g__ = A / p\n",
    "    for j in len(A):\n",
    "        h = np.zeros((len(A), 1))\n",
    "        h[j] = 1\n",
    "        g_ = h / pi\n",
    "        Q_0 = g[i][0]\n",
    "        state = "
   ]
  },
  {
   "cell_type": "code",
   "execution_count": 175,
   "metadata": {
    "collapsed": false
   },
   "outputs": [],
   "source": [
    "m = array([\n",
    "        [0.1, 0.2, 0.7],\n",
    "        [0.9, 0.09, 0.01],\n",
    "        [0.3, 0.3, 0.4]\n",
    "    ])"
   ]
  },
  {
   "cell_type": "code",
   "execution_count": null,
   "metadata": {
    "collapsed": true
   },
   "outputs": [],
   "source": []
  }
 ],
 "metadata": {
  "kernelspec": {
   "display_name": "Python 3",
   "language": "python",
   "name": "python3"
  },
  "language_info": {
   "codemirror_mode": {
    "name": "ipython",
    "version": 3
   },
   "file_extension": ".py",
   "mimetype": "text/x-python",
   "name": "python",
   "nbconvert_exporter": "python",
   "pygments_lexer": "ipython3",
   "version": "3.5.2"
  }
 },
 "nbformat": 4,
 "nbformat_minor": 0
}
